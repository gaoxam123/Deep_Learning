{
 "cells": [
  {
   "cell_type": "code",
   "execution_count": 1,
   "metadata": {},
   "outputs": [],
   "source": [
    "import torch\n",
    "import torch.nn as nn\n",
    "import torch.optim as optim\n",
    "from PIL import Image\n",
    "import torchvision.transforms as transforms\n",
    "import torchvision.models as models\n",
    "from torchvision.utils import save_image\n",
    "import numpy as np\n",
    "import matplotlib.pyplot as plt"
   ]
  },
  {
   "cell_type": "code",
   "execution_count": 2,
   "metadata": {},
   "outputs": [],
   "source": [
    "class VGG(nn.Module):\n",
    "    def __init__(self):\n",
    "        super(VGG, self).__init__()\n",
    "        self.chosen_features = ['0', '5', '10', '19', '28']\n",
    "        self.model = models.vgg19(pretrained=True).features\n",
    "\n",
    "    def forward(self, x):\n",
    "        features = []\n",
    "\n",
    "        for layer_num, layer in enumerate(self.model):\n",
    "            x = layer(x)\n",
    "\n",
    "            if str(layer_num) in self.chosen_features:\n",
    "                features.append(x)\n",
    "\n",
    "        return features"
   ]
  },
  {
   "cell_type": "code",
   "execution_count": 3,
   "metadata": {},
   "outputs": [],
   "source": [
    "device = torch.device('cuda')\n",
    "image_size = 356\n",
    "loader = transforms.Compose([\n",
    "    transforms.Resize(size=(image_size, image_size)),\n",
    "    transforms.ToTensor()\n",
    "])"
   ]
  },
  {
   "cell_type": "code",
   "execution_count": 4,
   "metadata": {},
   "outputs": [],
   "source": [
    "def load_image(image_name):\n",
    "    image = Image.open(image_name)\n",
    "    image = loader(image).unsqueeze(0)\n",
    "    return image.to(device)"
   ]
  },
  {
   "cell_type": "code",
   "execution_count": 5,
   "metadata": {},
   "outputs": [],
   "source": [
    "original_img = load_image(\"content.png\")\n",
    "style_img = load_image(\"style.png\")\n",
    "\n",
    "generated = original_img.clone().requires_grad_(True)"
   ]
  },
  {
   "cell_type": "code",
   "execution_count": 6,
   "metadata": {},
   "outputs": [
    {
     "name": "stderr",
     "output_type": "stream",
     "text": [
      "c:\\Users\\minht\\anaconda3\\Lib\\site-packages\\torchvision\\models\\_utils.py:208: UserWarning: The parameter 'pretrained' is deprecated since 0.13 and may be removed in the future, please use 'weights' instead.\n",
      "  warnings.warn(\n",
      "c:\\Users\\minht\\anaconda3\\Lib\\site-packages\\torchvision\\models\\_utils.py:223: UserWarning: Arguments other than a weight enum or `None` for 'weights' are deprecated since 0.13 and may be removed in the future. The current behavior is equivalent to passing `weights=VGG19_Weights.IMAGENET1K_V1`. You can also use `weights=VGG19_Weights.DEFAULT` to get the most up-to-date weights.\n",
      "  warnings.warn(msg)\n"
     ]
    }
   ],
   "source": [
    "total_step = 2501\n",
    "learning_rate = 0.001\n",
    "alpha = 1\n",
    "beta = 0.01\n",
    "model = VGG().to(device).eval()\n",
    "optimizer = optim.Adam([generated], lr=learning_rate)"
   ]
  },
  {
   "cell_type": "code",
   "execution_count": 7,
   "metadata": {},
   "outputs": [],
   "source": [
    "def tensor_to_image(tensor):\n",
    "    tensor = tensor * 255\n",
    "    tensor = np.array(tensor, dtype=np.uint8)\n",
    "    if np.ndim(tensor) > 3:\n",
    "        assert tensor.shape[0] == 1\n",
    "        tensor = tensor[0]\n",
    "    return Image.fromarray(tensor)"
   ]
  },
  {
   "cell_type": "code",
   "execution_count": 8,
   "metadata": {},
   "outputs": [
    {
     "name": "stdout",
     "output_type": "stream",
     "text": [
      "tensor(530309.1250, device='cuda:0', grad_fn=<AddBackward0>)\n",
      "tensor(160106.5156, device='cuda:0', grad_fn=<AddBackward0>)\n",
      "tensor(90518.8672, device='cuda:0', grad_fn=<AddBackward0>)\n",
      "tensor(60333.4414, device='cuda:0', grad_fn=<AddBackward0>)\n",
      "tensor(44316.3711, device='cuda:0', grad_fn=<AddBackward0>)\n",
      "tensor(35174.6992, device='cuda:0', grad_fn=<AddBackward0>)\n",
      "tensor(29478.8633, device='cuda:0', grad_fn=<AddBackward0>)\n",
      "tensor(25564.6523, device='cuda:0', grad_fn=<AddBackward0>)\n",
      "tensor(22680.7129, device='cuda:0', grad_fn=<AddBackward0>)\n",
      "tensor(20485.4336, device='cuda:0', grad_fn=<AddBackward0>)\n",
      "tensor(18751.0684, device='cuda:0', grad_fn=<AddBackward0>)\n",
      "tensor(17372.3086, device='cuda:0', grad_fn=<AddBackward0>)\n",
      "tensor(16254.2725, device='cuda:0', grad_fn=<AddBackward0>)\n",
      "tensor(15330.4512, device='cuda:0', grad_fn=<AddBackward0>)\n",
      "tensor(14550.7314, device='cuda:0', grad_fn=<AddBackward0>)\n",
      "tensor(13884.1641, device='cuda:0', grad_fn=<AddBackward0>)\n",
      "tensor(13307.4443, device='cuda:0', grad_fn=<AddBackward0>)\n",
      "tensor(12793.9180, device='cuda:0', grad_fn=<AddBackward0>)\n",
      "tensor(12336.5625, device='cuda:0', grad_fn=<AddBackward0>)\n",
      "tensor(11922.4551, device='cuda:0', grad_fn=<AddBackward0>)\n",
      "tensor(11541.9141, device='cuda:0', grad_fn=<AddBackward0>)\n",
      "tensor(11187.6729, device='cuda:0', grad_fn=<AddBackward0>)\n",
      "tensor(10857.6523, device='cuda:0', grad_fn=<AddBackward0>)\n",
      "tensor(10547.8662, device='cuda:0', grad_fn=<AddBackward0>)\n",
      "tensor(10258.9482, device='cuda:0', grad_fn=<AddBackward0>)\n",
      "tensor(9990.3428, device='cuda:0', grad_fn=<AddBackward0>)\n",
      "tensor(9740.4629, device='cuda:0', grad_fn=<AddBackward0>)\n",
      "tensor(9506.7295, device='cuda:0', grad_fn=<AddBackward0>)\n",
      "tensor(9286.8242, device='cuda:0', grad_fn=<AddBackward0>)\n",
      "tensor(9078.9941, device='cuda:0', grad_fn=<AddBackward0>)\n",
      "tensor(8881.8945, device='cuda:0', grad_fn=<AddBackward0>)\n",
      "tensor(8693.7988, device='cuda:0', grad_fn=<AddBackward0>)\n",
      "tensor(8513.7080, device='cuda:0', grad_fn=<AddBackward0>)\n",
      "tensor(8340.9990, device='cuda:0', grad_fn=<AddBackward0>)\n",
      "tensor(8175.1680, device='cuda:0', grad_fn=<AddBackward0>)\n",
      "tensor(8015.2002, device='cuda:0', grad_fn=<AddBackward0>)\n",
      "tensor(7859.4971, device='cuda:0', grad_fn=<AddBackward0>)\n",
      "tensor(7708.9849, device='cuda:0', grad_fn=<AddBackward0>)\n",
      "tensor(7562.5024, device='cuda:0', grad_fn=<AddBackward0>)\n",
      "tensor(7419.1353, device='cuda:0', grad_fn=<AddBackward0>)\n",
      "tensor(7279.4727, device='cuda:0', grad_fn=<AddBackward0>)\n",
      "tensor(7144.2134, device='cuda:0', grad_fn=<AddBackward0>)\n",
      "tensor(7011.4253, device='cuda:0', grad_fn=<AddBackward0>)\n",
      "tensor(6881.0366, device='cuda:0', grad_fn=<AddBackward0>)\n",
      "tensor(6752.4722, device='cuda:0', grad_fn=<AddBackward0>)\n",
      "tensor(6626.1265, device='cuda:0', grad_fn=<AddBackward0>)\n",
      "tensor(6502.2407, device='cuda:0', grad_fn=<AddBackward0>)\n",
      "tensor(6380.7876, device='cuda:0', grad_fn=<AddBackward0>)\n",
      "tensor(6261.5947, device='cuda:0', grad_fn=<AddBackward0>)\n",
      "tensor(6144.1807, device='cuda:0', grad_fn=<AddBackward0>)\n",
      "tensor(6028.1343, device='cuda:0', grad_fn=<AddBackward0>)\n"
     ]
    }
   ],
   "source": [
    "for step in range(total_step):\n",
    "    generated_features = model(generated)\n",
    "    original_img_features = model(original_img)\n",
    "    style_features = model(style_img)\n",
    "\n",
    "    style_loss = original_loss = 0\n",
    "\n",
    "    for gen_feature, orig_feature, style_feature in zip(generated_features, original_img_features, style_features):\n",
    "        batch_size, channel, height, width = gen_feature.shape\n",
    "        original_loss += torch.mean((gen_feature - orig_feature) ** 2)\n",
    "        G = gen_feature.view(channel, height * width).mm(gen_feature.view(channel, height * width).t()) # Gram matrix\n",
    "        A = style_feature.view(channel, height * width).mm(style_feature.view(channel, height * width).t())\n",
    "        style_loss += torch.mean((G - A) ** 2)\n",
    "    \n",
    "    total_loss = alpha * original_loss + beta * style_loss\n",
    "    optimizer.zero_grad()\n",
    "    total_loss.backward()\n",
    "    optimizer.step()\n",
    "\n",
    "    if step % 50 == 0:\n",
    "        print(total_loss)\n",
    "        save_image(generated, \"generated.png\")"
   ]
  }
 ],
 "metadata": {
  "kernelspec": {
   "display_name": "base",
   "language": "python",
   "name": "python3"
  },
  "language_info": {
   "codemirror_mode": {
    "name": "ipython",
    "version": 3
   },
   "file_extension": ".py",
   "mimetype": "text/x-python",
   "name": "python",
   "nbconvert_exporter": "python",
   "pygments_lexer": "ipython3",
   "version": "3.11.5"
  }
 },
 "nbformat": 4,
 "nbformat_minor": 2
}
