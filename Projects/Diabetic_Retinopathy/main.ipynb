{
 "cells": [
  {
   "cell_type": "code",
   "execution_count": 4,
   "metadata": {},
   "outputs": [],
   "source": [
    "import torch \n",
    "from torchvision import models\n",
    "from torch.utils.data import DataLoader\n",
    "from tqdm import tqdm\n",
    "import os\n",
    "from torch import nn, optim\n",
    "from sklearn.metrics import cohen_kappa_score\n",
    "from dataset import RetinaDataset\n",
    "import config"
   ]
  },
  {
   "cell_type": "code",
   "execution_count": 2,
   "metadata": {},
   "outputs": [],
   "source": [
    "from utils import check_accuracy, make_prediction"
   ]
  },
  {
   "cell_type": "code",
   "execution_count": 3,
   "metadata": {},
   "outputs": [],
   "source": [
    "def train_one_epoch(loader, model, optimizer, loss_fn, scaler, device):\n",
    "    losses = []\n",
    "    loop = tqdm(loader)\n",
    "    for batch_idx, (x, y, _) in enumerate(loop):\n",
    "        x.to(device)\n",
    "        y.to(device)\n",
    "\n",
    "        with torch.cuda.amp.autocast_mode():\n",
    "            scores = model(x)\n",
    "            loss = loss_fn(scores, y)\n",
    "\n",
    "        losses.append(loss.item())\n",
    "        optimizer.zero_grad()\n",
    "        loss.backward()\n",
    "        optimizer.step()"
   ]
  },
  {
   "cell_type": "code",
   "execution_count": null,
   "metadata": {},
   "outputs": [],
   "source": [
    "def main():\n",
    "    train_dataset = RetinaDataset(img_folder=\"adfasdfasdf\", path_to_csv=\"asdfasfe\", transform=config.train_transform)\n",
    "    val_dataset = RetinaDataset(img_folder=\"asdfadfasdf\", path_to_csv=\"asdfasdf\", train=False, transform=config.val_transform)\n",
    "    test_dataset = RetinaDataset(img_folder=\"asdfasdfas\", path_to_csv=\"asdfasdfasd\", train=False, transform=config.val_transform)\n",
    "\n",
    "    train_loader = DataLoader(train_dataset, config.BATCH_SIZE, True, num_workers=config.NUM_WORKERS, pin_memory=config.PIN_MEMORY)\n",
    "    val_loader = DataLoader(val_dataset, config.BATCH_SIZE, False, num_workers=config.NUM_WORKERS, pin_memory=config.PIN_MEMORY)\n",
    "    test_loader = DataLoader(val_dataset, config.BATCH_SIZE, False, config.NUM_WORKERS, config.PIN_MEMORY)\n",
    "\n",
    "    loss_fn = nn.CrossEntropyLoss()\n",
    "    model = models.efficientnet_b3(weights=models.EfficientNet_B3_Weights.DEFAULT)\n",
    "    model._fc = nn.Linear(1536, 5)\n",
    "    model.to(config.DEVICE)\n",
    "    optimizer = optim.Adam(params=model.parameters(), lr=config.LEARNING_RATE, weight_decay=config.WEIGHT_DECAY)\n",
    "    scaler = torch.cuda.amp.grad_scaler()\n",
    "\n",
    "    for epoch in range(config.EPOCHS):\n",
    "        train_one_epoch(train_loader, model, optimizer, loss_fn, scaler, config.DEVICE)\n",
    "        preds, labels = check_accuracy(val_loader, model, config.DEVICE)\n",
    "\n",
    "        print(f\"validation: {cohen_kappa_score(labels, preds, weights='quadratic')}\") \n",
    "\n",
    "    make_prediction(model, test_loader)"
   ]
  }
 ],
 "metadata": {
  "kernelspec": {
   "display_name": "base",
   "language": "python",
   "name": "python3"
  },
  "language_info": {
   "codemirror_mode": {
    "name": "ipython",
    "version": 3
   },
   "file_extension": ".py",
   "mimetype": "text/x-python",
   "name": "python",
   "nbconvert_exporter": "python",
   "pygments_lexer": "ipython3",
   "version": "3.11.5"
  }
 },
 "nbformat": 4,
 "nbformat_minor": 2
}
