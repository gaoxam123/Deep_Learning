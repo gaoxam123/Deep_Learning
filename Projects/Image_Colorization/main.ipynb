{
 "cells": [
  {
   "cell_type": "code",
   "execution_count": 1,
   "metadata": {},
   "outputs": [],
   "source": [
    "import torch \n",
    "import torchvision\n",
    "import torch.optim as optim\n",
    "import torch.nn as nn\n",
    "import torchvision.transforms as transforms\n",
    "from torch.utils.data import DataLoader\n",
    "import os\n",
    "from model import ColorizationNet"
   ]
  },
  {
   "cell_type": "code",
   "execution_count": 2,
   "metadata": {},
   "outputs": [
    {
     "data": {
      "text/plain": [
       "'cuda'"
      ]
     },
     "execution_count": 2,
     "metadata": {},
     "output_type": "execute_result"
    }
   ],
   "source": [
    "device = 'cuda' if torch.cuda.is_available() else 'cpu'\n",
    "device"
   ]
  },
  {
   "cell_type": "code",
   "execution_count": 3,
   "metadata": {},
   "outputs": [],
   "source": [
    "transform = transforms.Compose([\n",
    "    transforms.Resize((224, 224)),\n",
    "    transforms.ToTensor()\n",
    "])"
   ]
  },
  {
   "cell_type": "code",
   "execution_count": 4,
   "metadata": {},
   "outputs": [
    {
     "name": "stdout",
     "output_type": "stream",
     "text": [
      "Files already downloaded and verified\n",
      "Files already downloaded and verified\n"
     ]
    }
   ],
   "source": [
    "train_dataset = torchvision.datasets.CIFAR10(root='./data', train=True, download=True, transform=transform)\n",
    "train_loader = DataLoader(train_dataset, batch_size=64, shuffle=True, num_workers=os.cpu_count())\n",
    "\n",
    "test_dataset = torchvision.datasets.CIFAR10(root='./data', train=False, download=True, transform=transform)\n",
    "test_loader = DataLoader(test_dataset, batch_size=64, shuffle=False, num_workers=os.cpu_count())"
   ]
  },
  {
   "cell_type": "code",
   "execution_count": 5,
   "metadata": {},
   "outputs": [],
   "source": [
    "model = ColorizationNet().to(device)\n",
    "loss_fn = nn.MSELoss()\n",
    "optimizer = optim.Adam(params=model.parameters(), lr=0.001)"
   ]
  },
  {
   "cell_type": "code",
   "execution_count": 6,
   "metadata": {},
   "outputs": [],
   "source": [
    "def rgb_to_gray(img):\n",
    "    return img.mean(dim=1, keepdim=True)"
   ]
  },
  {
   "cell_type": "code",
   "execution_count": 7,
   "metadata": {},
   "outputs": [],
   "source": [
    "from tqdm import tqdm"
   ]
  },
  {
   "cell_type": "code",
   "execution_count": 8,
   "metadata": {},
   "outputs": [
    {
     "name": "stderr",
     "output_type": "stream",
     "text": [
      "  0%|          | 0/30 [00:00<?, ?it/s]"
     ]
    },
    {
     "name": "stdout",
     "output_type": "stream",
     "text": [
      "epoch 1/30, step 1/782\n"
     ]
    },
    {
     "name": "stderr",
     "output_type": "stream",
     "text": [
      "  0%|          | 0/30 [08:20<?, ?it/s]\n"
     ]
    }
   ],
   "source": [
    "EPOCHS = 30\n",
    "for epoch in tqdm(range(EPOCHS)):\n",
    "    for i, (images, _) in enumerate(train_loader):\n",
    "        gray_imgs = rgb_to_gray(images).to(device)\n",
    "        images = images.to(device)\n",
    "\n",
    "        predictions = model(gray_imgs)\n",
    "        loss = loss_fn(predictions, images)\n",
    "\n",
    "        optimizer.zero_grad()\n",
    "        loss.backward()\n",
    "        optimizer.step()\n",
    "\n",
    "        if i % 10 == 0:\n",
    "            print(f\"epoch {epoch + 1}/{EPOCHS}, step {i+1}/{len(train_loader)}\")"
   ]
  },
  {
   "cell_type": "code",
   "execution_count": 1,
   "metadata": {},
   "outputs": [],
   "source": [
    "import matplotlib.pyplot as plt\n",
    "import numpy as np\n",
    "\n",
    "def imshow(img):\n",
    "    # Convert from Tensor image and display\n",
    "    img = img / 2 + 0.5  # Unnormalize\n",
    "    npimg = img.numpy()\n",
    "    if len(img.shape) == 2:  # grayscale image\n",
    "        plt.imshow(npimg, cmap='gray')\n",
    "    else:\n",
    "        plt.imshow(np.transpose(npimg, (1, 2, 0)))\n",
    "\n",
    "def visualize_all_three(original_images, grayscale_images, colorized_images, n=5):\n",
    "    \"\"\"\n",
    "    Display grayscale, colorized, and original images side by side.\n",
    "    n: number of images to display from the batch\n",
    "    \"\"\"\n",
    "    fig = plt.figure(figsize=(3*n, 4))\n",
    "    for i in range(n):\n",
    "        # Display original image\n",
    "        ax = plt.subplot(1, 3*n, 3*i + 1)\n",
    "        imshow(original_images[i])\n",
    "        ax.set_title(\"Original\")\n",
    "        ax.axis(\"off\")\n",
    "\n",
    "        # Display original grayscale image\n",
    "        ax = plt.subplot(1, 3*n, 3*i + 2)\n",
    "        imshow(grayscale_images[i])\n",
    "        ax.set_title(\"Grayscale\")\n",
    "        ax.axis(\"off\")\n",
    "\n",
    "        # Display colorized image\n",
    "        ax = plt.subplot(1, 3*n, 3*i + 3)\n",
    "        imshow(colorized_images[i])\n",
    "        ax.set_title(\"Colorized\")\n",
    "        ax.axis(\"off\")\n",
    "\n",
    "    plt.tight_layout()\n",
    "    plt.show()\n",
    "\n",
    "\n",
    "def torch_rgb_to_hsv(rgb):\n",
    "    \"\"\"\n",
    "    Convert an RGB image tensor to HSV.\n",
    "\n",
    "    Parameters:\n",
    "    - rgb: tensor of shape (batch_size, 3, height, width) in RGB format in the range [0, 1].\n",
    "\n",
    "    Returns:\n",
    "    - hsv: tensor of same shape in HSV format in the range [0, 1].\n",
    "    \"\"\"\n",
    "    r, g, b = rgb[:, 0, :, :], rgb[:, 1, :, :], rgb[:, 2, :, :]\n",
    "    max_val, _ = torch.max(rgb, dim=1)\n",
    "    min_val, _ = torch.min(rgb, dim=1)\n",
    "    diff = max_val - min_val\n",
    "\n",
    "    # Compute H\n",
    "    h = torch.zeros_like(r)\n",
    "    mask = (max_val == r) & (g >= b)\n",
    "    h[mask] = (g[mask] - b[mask]) / diff[mask]\n",
    "    mask = (max_val == r) & (g < b)\n",
    "    h[mask] = (g[mask] - b[mask]) / diff[mask] + 6.0\n",
    "    mask = max_val == g\n",
    "    h[mask] = (b[mask] - r[mask]) / diff[mask] + 2.0\n",
    "    mask = max_val == b\n",
    "    h[mask] = (r[mask] - g[mask]) / diff[mask] + 4.0\n",
    "    h = h / 6.0\n",
    "    h[diff == 0.0] = 0.0\n",
    "\n",
    "    # Compute S\n",
    "    s = torch.zeros_like(r)\n",
    "    s[diff != 0.0] = diff[diff != 0.0] / max_val[diff != 0.0]\n",
    "\n",
    "    # V is just max_val\n",
    "    v = max_val\n",
    "\n",
    "    return torch.stack([h, s, v], dim=1)\n",
    "\n",
    "\n",
    "def torch_hsv_to_rgb(hsv):\n",
    "    \"\"\"\n",
    "    Convert an HSV image tensor to RGB.\n",
    "\n",
    "    Parameters:\n",
    "    - hsv: tensor of shape (batch_size, 3, height, width) in HSV format in the range [0, 1].\n",
    "\n",
    "    Returns:\n",
    "    - rgb: tensor of same shape in RGB format in the range [0, 1].\n",
    "    \"\"\"\n",
    "    h, s, v = hsv[:, 0, :, :], hsv[:, 1, :, :], hsv[:, 2, :, :]\n",
    "    i = (h * 6.0).floor()\n",
    "    f = h * 6.0 - i\n",
    "    p = v * (1.0 - s)\n",
    "    q = v * (1.0 - s * f)\n",
    "    t = v * (1.0 - s * (1.0 - f))\n",
    "\n",
    "    i_mod = i % 6\n",
    "    r = torch.zeros_like(h)\n",
    "    g = torch.zeros_like(h)\n",
    "    b = torch.zeros_like(h)\n",
    "\n",
    "    r[i_mod == 0.0] = v[i_mod == 0.0]\n",
    "    g[i_mod == 0.0] = t[i_mod == 0.0]\n",
    "    b[i_mod == 0.0] = p[i_mod == 0.0]\n",
    "\n",
    "    r[i_mod == 1.0] = q[i_mod == 1.0]\n",
    "    g[i_mod == 1.0] = v[i_mod == 1.0]\n",
    "    b[i_mod == 1.0] = p[i_mod == 1.0]\n",
    "\n",
    "    r[i_mod == 2.0] = p[i_mod == 2.0]\n",
    "    g[i_mod == 2.0] = v[i_mod == 2.0]\n",
    "    b[i_mod == 2.0] = t[i_mod == 2.0]\n",
    "\n",
    "    r[i_mod == 3.0] = p[i_mod == 3.0]\n",
    "    g[i_mod == 3.0] = q[i_mod == 3.0]\n",
    "    b[i_mod == 3.0] = v[i_mod == 3.0]\n",
    "\n",
    "    r[i_mod == 4.0] = t[i_mod == 4.0]\n",
    "    g[i_mod == 4.0] = p[i_mod == 4.0]\n",
    "    b[i_mod == 4.0] = v[i_mod == 4.0]\n",
    "\n",
    "    r[i_mod == 5.0] = v[i_mod == 5.0]\n",
    "    g[i_mod == 5.0] = p[i_mod == 5.0]\n",
    "    b[i_mod == 5.0] = q[i_mod == 5.0]\n",
    "\n",
    "    return torch.stack([r, g, b], dim=1)\n",
    "\n",
    "def exaggerate_colors(images, saturation_factor=1.5, value_factor=1.2):\n",
    "    \"\"\"\n",
    "    Exaggerate the colors of RGB images.\n",
    "\n",
    "    Parameters:\n",
    "    - images: tensor of shape (batch_size, 3, height, width) in RGB format.\n",
    "    - saturation_factor: factor by which to increase the saturation. Default is 1.5.\n",
    "    - value_factor: factor by which to increase the value/brightness. Default is 1.2.\n",
    "\n",
    "    Returns:\n",
    "    - color_exaggerated_images: tensor of same shape as input, with exaggerated colors.\n",
    "    \"\"\"\n",
    "    # Convert images to the range [0, 1]\n",
    "    images = (images + 1) / 2.0\n",
    "\n",
    "    # Convert RGB images to HSV\n",
    "    images_hsv = torch_rgb_to_hsv(images)\n",
    "\n",
    "    # Increase the saturation and value components\n",
    "    images_hsv[:, 1, :, :] = torch.clamp(images_hsv[:, 1, :, :] * saturation_factor, 0, 1)\n",
    "    images_hsv[:, 2, :, :] = torch.clamp(images_hsv[:, 2, :, :] * value_factor, 0, 1)\n",
    "\n",
    "    # Convert the modified HSV images back to RGB\n",
    "    color_exaggerated_images = torch_hsv_to_rgb(images_hsv)\n",
    "\n",
    "    # Convert images back to the range [-1, 1]\n",
    "    color_exaggerated_images = color_exaggerated_images * 2.0 - 1.0\n",
    "\n",
    "    return color_exaggerated_images\n",
    "\n"
   ]
  },
  {
   "cell_type": "code",
   "execution_count": null,
   "metadata": {},
   "outputs": [],
   "source": [
    "with torch.no_grad():\n",
    "    for i, (images, _) in enumerate(test_loader):\n",
    "        grayscale_images = rgb_to_gray(images).to(device)\n",
    "        colorized_images = model(grayscale_images)\n",
    "\n",
    "        # Convert the tensors back to CPU for visualization\n",
    "        grayscale_images_cpu = grayscale_images.cpu().squeeze(1)  # remove the color channel\n",
    "        colorized_images_cpu = colorized_images.cpu()\n",
    "        original_images_cpu = images.cpu()\n",
    "\n",
    "        #colorized_images_cpu=scale_predicted_colors(colorized_images_cpu)\n",
    "        colorized_images_cpu=exaggerate_colors(colorized_images_cpu)\n",
    "\n",
    "        # Visualize the grayscale, colorized, and original images\n",
    "        visualize_all_three(original_images_cpu, grayscale_images_cpu, colorized_images_cpu)\n",
    "\n",
    "        if i == 10:  # only do this for up to certain batch for demonstration purposes\n",
    "            break"
   ]
  }
 ],
 "metadata": {
  "kernelspec": {
   "display_name": "base",
   "language": "python",
   "name": "python3"
  },
  "language_info": {
   "codemirror_mode": {
    "name": "ipython",
    "version": 3
   },
   "file_extension": ".py",
   "mimetype": "text/x-python",
   "name": "python",
   "nbconvert_exporter": "python",
   "pygments_lexer": "ipython3",
   "version": "3.11.5"
  }
 },
 "nbformat": 4,
 "nbformat_minor": 2
}
