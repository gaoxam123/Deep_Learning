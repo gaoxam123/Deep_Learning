{
 "cells": [
  {
   "cell_type": "code",
   "execution_count": 1,
   "metadata": {},
   "outputs": [],
   "source": [
    "import torch\n",
    "import torch.nn as nn"
   ]
  },
  {
   "cell_type": "code",
   "execution_count": 7,
   "metadata": {},
   "outputs": [],
   "source": [
    "class block(nn.Module):\n",
    "    def __init__(self, in_channels, intermediate_channels, identity_downsample=None, stride=1):\n",
    "        super().__init__()\n",
    "        self.conv = nn.Sequential(\n",
    "            nn.Conv2d(in_channels, intermediate_channels, 1, 1, bias=False),\n",
    "            nn.BatchNorm2d(intermediate_channels),\n",
    "            nn.ReLU(inplace=True),\n",
    "            nn.Conv2d(intermediate_channels, intermediate_channels, 3, stride, 1, bias=False),\n",
    "            nn.BatchNorm2d(intermediate_channels),\n",
    "            nn.ReLU(inplace=True),\n",
    "            nn.Conv2d(intermediate_channels, intermediate_channels * 4, 1, 1, bias=False),\n",
    "            nn.BatchNorm2d(intermediate_channels * 4)\n",
    "        )\n",
    "        self.identity_downsample = identity_downsample\n",
    "        self.relu = nn.ReLU(inplace=True)\n",
    "\n",
    "    def forward(self, x):\n",
    "        identity = x.clone()\n",
    "\n",
    "        if self.identity_downsample is not None:\n",
    "            identity = self.identity_downsample(identity)\n",
    "\n",
    "        x = self.conv(x)\n",
    "        x = x + identity\n",
    "\n",
    "        return self.relu(x)"
   ]
  },
  {
   "cell_type": "code",
   "execution_count": 8,
   "metadata": {},
   "outputs": [],
   "source": [
    "class ResNet50(nn.Module):\n",
    "    def __init__(self, block, in_channels, num_classes, features = [3, 4, 6, 3]):\n",
    "        super().__init__()\n",
    "        self.in_channels = 64\n",
    "        self.num_classes = num_classes\n",
    "\n",
    "        self.conv = nn.Sequential(\n",
    "            nn.Conv2d(in_channels, 64, 7, 2, 3, bias=False),\n",
    "            nn.BatchNorm2d(64),\n",
    "            nn.ReLU(inplace=True),\n",
    "            nn.MaxPool2d(3, 2, 1)\n",
    "        )\n",
    "\n",
    "        self.layers2 = self._make_conv_layers(block, 64, features[0], 1)\n",
    "        self.layers3 = self._make_conv_layers(block, 128, features[1], 2)\n",
    "        self.layers4 = self._make_conv_layers(block, 256, features[2], 2)\n",
    "        self.layers5 = self._make_conv_layers(block, 512, features[3], 2)\n",
    "\n",
    "        self.avg_pool = nn.AdaptiveAvgPool2d((1, 1))\n",
    "        self.fc = nn.Linear(2048, num_classes)\n",
    "\n",
    "    def forward(self, x):\n",
    "        x = self.conv(x)\n",
    "        x = self.layers2(x)\n",
    "        x = self.layers3(x)\n",
    "        x = self.layers4(x)\n",
    "        x = self.layers5(x)\n",
    "        x = self.avg_pool(x)\n",
    "        x = x.reshape(x.shape[0], -1)\n",
    "\n",
    "        return self.fc(x)\n",
    "\n",
    "    def _make_conv_layers(self, block, intermediate_channels, num_repeats, stride):\n",
    "        layers = []\n",
    "        identity = None\n",
    "\n",
    "        if stride == 2 or self.in_channels != intermediate_channels * 4:\n",
    "            identity = nn.Sequential(\n",
    "                nn.Conv2d(self.in_channels, intermediate_channels * 4, kernel_size=1, stride=stride, bias=False),\n",
    "                nn.BatchNorm2d(intermediate_channels * 4)\n",
    "            )\n",
    "\n",
    "        layers.append(block(self.in_channels, intermediate_channels, identity, stride))\n",
    "        self.in_channels = intermediate_channels * 4\n",
    "\n",
    "        for _ in range(num_repeats - 1):\n",
    "            layers.append(block(self.in_channels, intermediate_channels))\n",
    "\n",
    "        return nn.Sequential(*layers)"
   ]
  },
  {
   "cell_type": "code",
   "execution_count": 10,
   "metadata": {},
   "outputs": [
    {
     "name": "stdout",
     "output_type": "stream",
     "text": [
      "torch.Size([32, 1000])\n"
     ]
    }
   ],
   "source": [
    "x = torch.randn(32, 3, 224, 224)\n",
    "model = ResNet50(block, 3, 1000)\n",
    "print(model(x).shape)"
   ]
  },
  {
   "cell_type": "code",
   "execution_count": 12,
   "metadata": {},
   "outputs": [],
   "source": [
    "import os\n",
    "import pandas as pd\n",
    "from torch.utils.data import DataLoader, Dataset\n",
    "import numpy as np \n",
    "from collections import defaultdict"
   ]
  },
  {
   "cell_type": "code",
   "execution_count": 13,
   "metadata": {},
   "outputs": [],
   "source": [
    "class PlantDataset(Dataset):\n",
    "    def __init__(self, img_dir, csv_file, transform=None):\n",
    "        super().__init__()\n",
    "        self.__annotations__ = pd.read_csv(csv_file)\n",
    "        self.img_dir = img_dir\n",
    "        self.transform = transform\n",
    "        df = self.__annotations__\n",
    "        dct = defaultdict(list)\n",
    "        \n",
    "        for i, label in enumerate(df.labels):\n",
    "            for category in label.split():\n",
    "                dct[category].append(i)\n",
    "\n",
    "        dct = {key: np.array(val) for key, val in dct.items()}\n",
    "        new_df = pd.DataFrame(np.zeros((len(df), len(dct.keys())), dtype=np.int8), columns=dct.keys())\n",
    "\n",
    "        for key, val in new_df.items():\n",
    "            new_df.loc[val, key] = 1\n",
    "\n",
    "        self.new_df = new_df\n",
    "\n",
    "    def __len__(self):\n",
    "        return len(self.__annotations__)\n",
    "    \n",
    "    def __getitem__(self, index):\n",
    "        img_path = os.path.join(self.img_dir, self.__annotations__.iloc[index, 0])\n",
    "        img = Image.open(img_path).convert('RGB')\n",
    "\n",
    "        if self.transform:\n",
    "            img = self.transform(img)\n",
    "\n",
    "        label = torch.tensor(self.new_df.iloc[index, :], dtype=torch.float32)\n",
    "\n",
    "        return img, label"
   ]
  },
  {
   "cell_type": "code",
   "execution_count": 14,
   "metadata": {},
   "outputs": [],
   "source": [
    "device = 'cuda' if torch.cuda.is_available() else 'cpu'\n",
    "learning_rate = 0.001\n",
    "batch_size = 32"
   ]
  },
  {
   "cell_type": "code",
   "execution_count": 20,
   "metadata": {},
   "outputs": [],
   "source": [
    "from sklearn.model_selection import train_test_split\n",
    "import torchvision.transforms as transforms"
   ]
  },
  {
   "cell_type": "code",
   "execution_count": 21,
   "metadata": {},
   "outputs": [],
   "source": [
    "transform = transforms.Compose([\n",
    "    transforms.Resize((224, 224)),\n",
    "    transforms.ToTensor()\n",
    "])"
   ]
  },
  {
   "cell_type": "code",
   "execution_count": null,
   "metadata": {},
   "outputs": [],
   "source": [
    "train_dataset = PlantDataset(img_dir='images', csv_file='fuck', transform=transform)\n",
    "test_dataset = PlantDataset(img_dir='images', csv_file='fuck', transform=transform)\n",
    "train_loader = DataLoader(train_dataset, batch_size, shuffle=True)\n",
    "test_loader = DataLoader(test_dataset, batch_size, shuffle=False)"
   ]
  },
  {
   "cell_type": "code",
   "execution_count": 16,
   "metadata": {},
   "outputs": [],
   "source": [
    "model = ResNet50(block, 3, 1000).to(device)\n",
    "loss_fn = nn.BCEWithLogitsLoss()\n",
    "optimizer = torch.optim.Adam(model.parameters(), learning_rate)"
   ]
  },
  {
   "cell_type": "code",
   "execution_count": 17,
   "metadata": {},
   "outputs": [],
   "source": [
    "from tqdm.auto import tqdm"
   ]
  },
  {
   "cell_type": "code",
   "execution_count": 18,
   "metadata": {},
   "outputs": [],
   "source": [
    "num_epochs = 100"
   ]
  },
  {
   "cell_type": "code",
   "execution_count": null,
   "metadata": {},
   "outputs": [],
   "source": [
    "for epoch in tqdm(range(num_epochs)):\n",
    "    train_loss = 0\n",
    "    train_acc = 0\n",
    "    num_correct = 0\n",
    "    total_sample = 0\n",
    "\n",
    "    for batch_idx, (img, label) in enumerate(tqdm(train_loader)):\n",
    "        img, label = img.to(device), label.to(device)\n",
    "\n",
    "        logits = model(img).squeeze()\n",
    "        loss = loss_fn(logits, label)\n",
    "        train_loss += loss.item()\n",
    "        optimizer.zero_grad()\n",
    "        loss.backward()\n",
    "        optimizer.step()\n",
    "\n",
    "        predictions = torch.round(torch.sigmoid(logits))\n",
    "        num_correct += (predictions == label).all().sum().item()\n",
    "        total_sample += label.shape[0]\n",
    "\n",
    "    train_loss /= len(train_loader)\n",
    "    train_acc = num_correct / total_sample\n",
    "\n",
    "    print(f\"epoch: {epoch}/{num_epochs} \\n train_loss: {train_loss} train_acc: {train_acc} \\n\")\n",
    "\n",
    "    model.eval()\n",
    "    test_loss = 0\n",
    "    test_acc = 0\n",
    "    num_correct = 0\n",
    "    total_sample = 0\n",
    "\n",
    "    with torch.no_grad():\n",
    "        for batch_idx, (img, label) in enumerate(test_loader):\n",
    "            img, label = img.to(device), label.to(device)\n",
    "\n",
    "            logits = model(img).squeeze()\n",
    "            loss = loss_fn(logits, label)\n",
    "            test_loss += loss.item()\n",
    "\n",
    "            predictions = torch.round(torch.sigmoid(logits))\n",
    "            num_correct += (predictions == label).all().sum().item()\n",
    "            total_sample += label.shape[0]\n",
    "\n",
    "        test_loss /= len(test_loader)\n",
    "        test_acc = num_correct / total_sample\n",
    "\n",
    "        print(f\"test_loss: {test_loss} test_acc: {test_acc}\")"
   ]
  }
 ],
 "metadata": {
  "kernelspec": {
   "display_name": "base",
   "language": "python",
   "name": "python3"
  },
  "language_info": {
   "codemirror_mode": {
    "name": "ipython",
    "version": 3
   },
   "file_extension": ".py",
   "mimetype": "text/x-python",
   "name": "python",
   "nbconvert_exporter": "python",
   "pygments_lexer": "ipython3",
   "version": "3.11.5"
  }
 },
 "nbformat": 4,
 "nbformat_minor": 2
}
